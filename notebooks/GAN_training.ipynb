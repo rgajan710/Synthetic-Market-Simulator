{
 "cells": [
  {
   "cell_type": "code",
   "execution_count": null,
   "id": "c6a7e845-5dfc-4d08-a34e-a57e2cfef915",
   "metadata": {},
   "outputs": [],
   "source": [
    "import pandas as pd\n",
    "import matplotlib.pyplot as plt\n",
    "\n",
    "df = pd.read_csv(\"synthetic_data.csv\", index_col=\"timestamp\", parse_dates=True)\n",
    "\n",
    "plt.figure(figsize=(12, 6))\n",
    "plt.plot(df['close'], label=\"Synthetic Close Price\")\n",
    "plt.title(\"Synthetic Market Data - Close Prices\")\n",
    "plt.xlabel(\"Time\")\n",
    "plt.ylabel(\"Price\")\n",
    "plt.legend()\n",
    "plt.grid()\n",
    "plt.show()"
   ]
  }
 ],
 "metadata": {
  "kernelspec": {
   "display_name": "Python 3 (ipykernel)",
   "language": "python",
   "name": "python3"
  },
  "language_info": {
   "codemirror_mode": {
    "name": "ipython",
    "version": 3
   },
   "file_extension": ".py",
   "mimetype": "text/x-python",
   "name": "python",
   "nbconvert_exporter": "python",
   "pygments_lexer": "ipython3",
   "version": "3.11.5"
  }
 },
 "nbformat": 4,
 "nbformat_minor": 5
}
